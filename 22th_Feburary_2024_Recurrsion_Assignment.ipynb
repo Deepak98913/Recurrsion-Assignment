{
 "cells": [
  {
   "cell_type": "code",
   "execution_count": 2,
   "id": "950e48c4-2f21-4fb5-ac4b-33ff6be36e57",
   "metadata": {},
   "outputs": [
    {
     "name": "stdout",
     "output_type": "stream",
     "text": [
      "Move disk 1 form rod A to rod C\n",
      "Move disk 2 from rod A to rod B\n",
      "Move disk 1 form rod C to rod B\n",
      "Move disk 3 from rod A to rod C\n",
      "Move disk 1 form rod B to rod A\n",
      "Move disk 2 from rod B to rod C\n",
      "Move disk 1 form rod A to rod C\n"
     ]
    }
   ],
   "source": [
    "# Q.1 Can you explain the logic and working of the Tower of Hanoi algorithm by writing a Python program? \n",
    "\n",
    "def tower_of_hanoi(n, source, auxiliary, destination):\n",
    "    if n== 1:\n",
    "        print(f\"Move disk 1 form rod {source} to rod {destination}\")\n",
    "        return\n",
    "    tower_of_hanoi(n-1, source, destination, auxiliary)\n",
    "    print(f\"Move disk {n} from rod {source} to rod {destination}\")\n",
    "    tower_of_hanoi(n-1, auxiliary, source, destination)\n",
    "    \n",
    "# Example \n",
    "n = 3\n",
    "tower_of_hanoi(n, 'A', 'B', 'C')"
   ]
  },
  {
   "cell_type": "code",
   "execution_count": 6,
   "id": "76d019ea-daca-4d0b-b835-de76d80c21b6",
   "metadata": {},
   "outputs": [
    {
     "name": "stdout",
     "output_type": "stream",
     "text": [
      "3\n"
     ]
    }
   ],
   "source": [
    "# Q.2 Given two strings word1 and word2, return the minimum number of operations required to convert word1 to word2.\n",
    "\n",
    "# Example 1:- \n",
    "\n",
    "# Input: word1 = \"horse\", word2 = \"ros\"\n",
    "# Output: 3\n",
    "# Explanation: \n",
    "# horse -> rorse (replace 'h' with 'r')\n",
    "# rorse -> rose (remove 'r')\n",
    "# rose -> ros (remove 'e')\n",
    "\n",
    "def minDistance(word1, word2):\n",
    "    m, n = len(word1), len(word2)\n",
    "    \n",
    "    #Initialize a 2D array with (m+1) rows and (n+1) columns\n",
    "    dp = [[0] * (n+1) for _ in range(m+1)]\n",
    "    \n",
    "    #Fill the first row and column\n",
    "    for i in range(m+1):\n",
    "        dp[i][0] = i\n",
    "    for j in range(n+1):\n",
    "        dp[0][j] = j\n",
    "    \n",
    "    #Fill the rest of the array\n",
    "    for i in range(1, m+1):\n",
    "        for j in range(1, n+1):\n",
    "            if word1[i-1] == word2[j-1]:\n",
    "                dp[i][j] = dp[i-1][j-1]\n",
    "                \n",
    "            else:\n",
    "                dp[i][j] = min(dp[i-1][j-1], dp[i][j-1], dp[i-1][j]) + 1\n",
    "                \n",
    "    return dp[m][n]\n",
    "\n",
    "word1 = \"horse\"\n",
    "word2 = \"ros\"\n",
    "print(minDistance(word1, word2))  # Output = 3"
   ]
  },
  {
   "cell_type": "code",
   "execution_count": 7,
   "id": "ee665fd4-493a-4d09-8e09-b936f1f7856b",
   "metadata": {},
   "outputs": [
    {
     "name": "stdout",
     "output_type": "stream",
     "text": [
      "5\n"
     ]
    }
   ],
   "source": [
    "# Example 2:- \n",
    "\n",
    "# Input: word1 = \"intention\", word2 = \"execution\"\n",
    "# Output: 5\n",
    "# Explanation: \n",
    "# intention -> inention (remove 't')\n",
    "# inention -> enention (replace 'i' with 'e')\n",
    "# enention -> exention (replace 'n' with 'x')\n",
    "# exention -> exection (replace 'n' with 'c')\n",
    "# exection -> execution (insert 'u')\n",
    "\n",
    "def minDistance(word1, word2):\n",
    "    m, n = len(word1), len(word2)\n",
    "    \n",
    "    #Initalize a 2D array with (m+1) rows and (n+1) columns\n",
    "    dp = [[0] * (n+1) for _ in range(m+1)]\n",
    "    \n",
    "    # Fill the first row and column\n",
    "    for i in range(m+1):\n",
    "        dp[i][0] = i\n",
    "    for j in range(n+1):\n",
    "        dp[0][j] = j\n",
    "        \n",
    "    # Fill the rest of the array\n",
    "    for i in range(1,m+1):\n",
    "        for j in range(1, n+1):\n",
    "            if word1[i-1] == word2[j-1]:\n",
    "                dp[i][j] = dp[i-1][j-1]\n",
    "            else:\n",
    "                dp[i][j] = min(dp[i-1][j-1], dp[i][j-1], dp[i-1][j]) + 1\n",
    "                \n",
    "    return dp[m][n]\n",
    "\n",
    "# Example usage:\n",
    "word1 = \"intention\"\n",
    "word2 = \"execution\"\n",
    "print(minDistance(word1, word2))  # Output = 5\n"
   ]
  },
  {
   "cell_type": "code",
   "execution_count": 3,
   "id": "b11d325a-00dd-4d3f-9b3e-41600f0d0d6a",
   "metadata": {},
   "outputs": [
    {
     "name": "stdout",
     "output_type": "stream",
     "text": [
      "22\n"
     ]
    }
   ],
   "source": [
    "# Q.3  Print the max value of the array [ 13, 1, -3, 22, 5]\n",
    "\n",
    "array = [13,1,-3,22,5]\n",
    "max_value = max(array)\n",
    "print(max_value)  #Output: 22"
   ]
  },
  {
   "cell_type": "code",
   "execution_count": 4,
   "id": "852e2231-eaa6-459b-95af-8e88db6f1378",
   "metadata": {},
   "outputs": [
    {
     "name": "stdout",
     "output_type": "stream",
     "text": [
      "120\n"
     ]
    }
   ],
   "source": [
    "# Q.4 Find the sum of the values of the array [92, 23, 15, -20, 10].\n",
    "\n",
    "array = [92, 23, 15, -20, 10]\n",
    "sum_of_array = sum(array)\n",
    "print(sum_of_array)  #output : 120"
   ]
  },
  {
   "cell_type": "code",
   "execution_count": 2,
   "id": "fd6561c2-0639-4f67-a475-b9ceafb89109",
   "metadata": {},
   "outputs": [
    {
     "name": "stdout",
     "output_type": "stream",
     "text": [
      "134 is not an Armstrong number\n"
     ]
    }
   ],
   "source": [
    "# Q.5 Given a number n. Print if it is an armstrong number or not.An armstrong number is a number if the sum\n",
    "# of every digit in that number raised to the power of total digits in that number is equal to the number.\n",
    "\n",
    "def is_armstrong_number(n):\n",
    "    # Convert the number to a string to count digits\n",
    "    num_str = str(n)\n",
    "    num_digits = len(num_str)\n",
    "    \n",
    "    # Calculate the sum of each digit raised to the power of total digits\n",
    "    armstrong_sum = sum(int(digit) ** num_digits for digit in num_str)\n",
    "    \n",
    "    # Check if the sum equals the original number\n",
    "    return armstrong_sum == n\n",
    "\n",
    "# Example usage:\n",
    "n = 134\n",
    "if is_armstrong_number(n):\n",
    "    print(f\"{n} is an Armstrong number\")\n",
    "else:\n",
    "    print(f\"{n} is not an Armstrong number\")\n",
    "    "
   ]
  },
  {
   "cell_type": "code",
   "execution_count": null,
   "id": "0b90497d-087a-4d1b-b765-712d62963f86",
   "metadata": {},
   "outputs": [],
   "source": []
  }
 ],
 "metadata": {
  "kernelspec": {
   "display_name": "Python 3 (ipykernel)",
   "language": "python",
   "name": "python3"
  },
  "language_info": {
   "codemirror_mode": {
    "name": "ipython",
    "version": 3
   },
   "file_extension": ".py",
   "mimetype": "text/x-python",
   "name": "python",
   "nbconvert_exporter": "python",
   "pygments_lexer": "ipython3",
   "version": "3.10.8"
  }
 },
 "nbformat": 4,
 "nbformat_minor": 5
}
